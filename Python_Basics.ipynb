{
  "nbformat": 4,
  "nbformat_minor": 0,
  "metadata": {
    "colab": {
      "provenance": []
    },
    "kernelspec": {
      "name": "python3",
      "display_name": "Python 3"
    },
    "language_info": {
      "name": "python"
    }
  },
  "cells": [
    {
      "cell_type": "code",
      "execution_count": null,
      "metadata": {
        "id": "5v95Vlopu44H"
      },
      "outputs": [],
      "source": []
    },
    {
      "cell_type": "markdown",
      "source": [
        "# Python Basics\n"
      ],
      "metadata": {
        "id": "qdu7QhoJvM1n"
      }
    },
    {
      "cell_type": "markdown",
      "source": [
        "Q1. What is Python, and why is it popular\n",
        "  - Python is a high-level, interpreted programming language known for its readability and versatility. It’s\n",
        "popular because of its simple syntax, large community, extensive libraries, and wide applicability, including\n",
        "web development, data analysis, AI, and more.\n",
        "\n",
        "\n",
        "Q2. What is an interpreter in Python\n",
        "  - An interpreter is a program that executes Python code line-by-line, allowing you to run scripts interactively.\n",
        "This makes it easier to debug and develop code quickly.\n",
        "\n",
        "\n",
        "Q3. What are pre-defined keywords in Python.\n",
        "  - Pre-defined keywords in Python are reserved words that have a specific meaning and purpose within the\n",
        "language. Examples include if, else, for, while, True, and False.\n",
        "\n",
        "\n",
        "Q4. Can keywords be used as variable names.\n",
        "  - No, keywords cannot be used as variable names as they are reserved by Python for specific functionalities.\n",
        "\n",
        "\n",
        "Q5. What is mutability in Python\n",
        "  - Mutability refers to an object’s ability to change its state or content after creation. For example, lists are\n",
        "mutable, while tuples are immutable.\n",
        "\n",
        "Q6. Why are lists mutable, but tuples are immutable.\n",
        "  - Lists are designed to be flexible, so they allow modification of elements. Tuples, on the other hand, are\n",
        "designed as fixed collections, making them faster and safer in scenarios where data should not change.\n",
        "\n",
        "\n",
        "Q7. What is the difference between “==” and “is” operators in Python\n",
        "  - “==” checks if the values of two objects are equal, while “is” checks if two variables point to the same\n",
        "memory location (i.e., if they are the same object).\n",
        "\n",
        "\n",
        "Q8. What are logical operators in Python\n",
        "  - Logical operators are used to combine multiple conditions and include and, or, and not.\n",
        "\n",
        "\n",
        "Q9. What is type casting in Python\n",
        "  - Type casting is the conversion of one data type to another, such as converting an integer to a string or a\n",
        "float.\n",
        "\n",
        "\n",
        "Q10. What is the difference between implicit and explicit type casting\n",
        "  - Implicit casting is done automatically by Python, while explicit casting requires the use of functions like int(),\n",
        "float(), or str() to convert between types.\n",
        "\n",
        "Q11. What is the purpose of conditional statements in Python\n",
        "  - Conditional statements, such as if, elif, and else, allow Python to execute certain blocks of code based on\n",
        "whether a condition is True or False.\n",
        "\n",
        "\n",
        "Q12. How does the elif statement work\n",
        "  - The elif statement provides additional conditions after an initial if. It is only executed if the previous if or elif\n",
        "condition was False.\n",
        "\n",
        "\n",
        "Q13. What is the difference between for and while loops\n",
        "  - A for loop is typically used when you know the number of iterations in advance, while a while loop is used\n",
        "when the number of iterations depends on a condition.\n",
        "\n",
        "\n",
        "Q14. Describe a scenario where a while loop is more suitable than a for loop\n",
        "  - A while loop is ideal when you want to continue looping until a specific condition is met, like waiting for user\n",
        "input or monitoring a process until it completes."
      ],
      "metadata": {
        "id": "yuQObv7kvkc4"
      }
    },
    {
      "cell_type": "markdown",
      "source": [],
      "metadata": {
        "id": "eaYxtpxJvE6y"
      }
    },
    {
      "cell_type": "markdown",
      "source": [
        "Q1. Write a Python program to print \"Hello, World!\""
      ],
      "metadata": {
        "id": "mgXxEyY52Vkd"
      }
    },
    {
      "cell_type": "code",
      "execution_count": 1,
      "metadata": {
        "id": "xHp2PMIZWVbc",
        "colab": {
          "base_uri": "https://localhost:8080/"
        },
        "outputId": "302479e6-be0f-4023-ccf4-f078de7f36b2"
      },
      "outputs": [
        {
          "output_type": "stream",
          "name": "stdout",
          "text": [
            "Hello, World!\n"
          ]
        }
      ],
      "source": [
        "print(\"Hello, World!\")"
      ]
    },
    {
      "cell_type": "markdown",
      "source": [
        "Q2. Write a Python program that displays your name and age."
      ],
      "metadata": {
        "id": "ImnF2YGm2rB7"
      }
    },
    {
      "cell_type": "code",
      "source": [
        "name = \"Aaqib malik\"\n",
        "age = 25\n",
        "print(\"My name is {name} and I am {age} years old.\")"
      ],
      "metadata": {
        "id": "8KnRK3SkWg5H",
        "colab": {
          "base_uri": "https://localhost:8080/"
        },
        "outputId": "609c9229-7dd7-4893-acc9-d864fff88070"
      },
      "execution_count": 3,
      "outputs": [
        {
          "output_type": "stream",
          "name": "stdout",
          "text": [
            "My name is {name} and I am {age} years old.\n"
          ]
        }
      ]
    },
    {
      "cell_type": "markdown",
      "source": [
        "Q3. Write code to print all the pre-defined keywords in Python using the keyword library."
      ],
      "metadata": {
        "id": "PSCdfXS33sAU"
      }
    },
    {
      "cell_type": "code",
      "source": [
        "import keyword\n",
        "print(keyword.kwlist)"
      ],
      "metadata": {
        "id": "msNWsZDgWgow",
        "colab": {
          "base_uri": "https://localhost:8080/"
        },
        "outputId": "ddccddd5-ca60-4f72-ea13-df3efbf4ed50"
      },
      "execution_count": 5,
      "outputs": [
        {
          "output_type": "stream",
          "name": "stdout",
          "text": [
            "['False', 'None', 'True', 'and', 'as', 'assert', 'async', 'await', 'break', 'class', 'continue', 'def', 'del', 'elif', 'else', 'except', 'finally', 'for', 'from', 'global', 'if', 'import', 'in', 'is', 'lambda', 'nonlocal', 'not', 'or', 'pass', 'raise', 'return', 'try', 'while', 'with', 'yield']\n"
          ]
        }
      ]
    },
    {
      "cell_type": "markdown",
      "source": [
        "### Q4. Write a program that checks if a given word is a Python keyword."
      ],
      "metadata": {
        "id": "CyVDhrgZWghq"
      }
    },
    {
      "cell_type": "code",
      "source": [
        "import keyword\n",
        "word = input(\"Enter a word: \")\n",
        "if keyword.iskeyword(word):\n",
        "    print(f\"{word} is a Python keyword.\")\n",
        "else:\n",
        "    print(f\"{word} is not a Python keyword.\")"
      ],
      "metadata": {
        "id": "DG--NxvIWgZp",
        "colab": {
          "base_uri": "https://localhost:8080/"
        },
        "outputId": "d3cfe008-b642-4b5b-edde-159bace413c1"
      },
      "execution_count": 7,
      "outputs": [
        {
          "output_type": "stream",
          "name": "stdout",
          "text": [
            "Enter a word: Aaqib\n",
            "Aaqib is not a Python keyword.\n"
          ]
        }
      ]
    },
    {
      "cell_type": "markdown",
      "source": [],
      "metadata": {
        "id": "oifMKsvW4wlx"
      }
    },
    {
      "cell_type": "markdown",
      "source": [
        "### Q5. Create a list and tuple in Python, and demonstrate how attempting to change an element works differently for each."
      ],
      "metadata": {
        "id": "mLQ6TOisWgRJ"
      }
    },
    {
      "cell_type": "code",
      "source": [
        "my_list = [1, 2, 3]\n",
        "my_tuple = (1, 2, 3)\n",
        "\n",
        "# Modifying list\n",
        "my_list[0] = 10\n",
        "print(\"Modified list:\", my_list)\n",
        "\n",
        "# Trying to modify tuple\n",
        "try:\n",
        "    my_tuple[0] = 10\n",
        "except TypeError as e:\n",
        "    print(\"Error:\", e)"
      ],
      "metadata": {
        "id": "9lUAmES-WgIc",
        "colab": {
          "base_uri": "https://localhost:8080/"
        },
        "outputId": "5eaf2969-49bc-441c-8610-e5bfad9d41ee"
      },
      "execution_count": 10,
      "outputs": [
        {
          "output_type": "stream",
          "name": "stdout",
          "text": [
            "Modified list: [10, 2, 3]\n",
            "Error: 'tuple' object does not support item assignment\n"
          ]
        }
      ]
    },
    {
      "cell_type": "markdown",
      "source": [
        "### Q6. Write a function to demonstrate the behavior of mutable and immutable arguments."
      ],
      "metadata": {
        "id": "LHZkFw1YWf79"
      }
    },
    {
      "cell_type": "code",
      "source": [
        "def modify_list(lst):\n",
        "    lst.append(4)\n",
        "\n",
        "def modify_string(s):\n",
        "    s += \" world\"\n",
        "\n",
        "my_list = [1, 2, 3]\n",
        "my_string = \"hello\"\n",
        "\n",
        "modify_list(my_list)\n",
        "print(\"Modified list:\", my_list)\n",
        "\n",
        "modify_string(my_string)\n",
        "print(\"String after function call:\", my_string)"
      ],
      "metadata": {
        "id": "-_dzPo80WfyY"
      },
      "execution_count": null,
      "outputs": []
    },
    {
      "cell_type": "markdown",
      "source": [
        "### Q7. Write a program that performs basic arithmetic operations on two user-input numbers."
      ],
      "metadata": {
        "id": "nL6LetmxWfkQ"
      }
    },
    {
      "cell_type": "code",
      "source": [
        "num1 = int(input(\"Enter first number: \"))\n",
        "num2 = int(input(\"Enter second number: \"))\n",
        "\n",
        "print(\"Addition:\", num1 + num2)\n",
        "print(\"Subtraction:\", num1 - num2)\n",
        "print(\"Multiplication:\", num1 * num2)\n",
        "print(\"Division:\", num1 / num2 if num2 != 0 else \"Cannot divide by zero\")"
      ],
      "metadata": {
        "id": "bVlaDu72Wfbp",
        "colab": {
          "base_uri": "https://localhost:8080/",
          "height": 228
        },
        "outputId": "63ab2cff-841b-4ae6-abb4-ad2100dc7fd6"
      },
      "execution_count": 12,
      "outputs": [
        {
          "name": "stdout",
          "output_type": "stream",
          "text": [
            "Enter first number: 1+2\n"
          ]
        },
        {
          "output_type": "error",
          "ename": "ValueError",
          "evalue": "invalid literal for int() with base 10: '1+2'",
          "traceback": [
            "\u001b[0;31m---------------------------------------------------------------------------\u001b[0m",
            "\u001b[0;31mValueError\u001b[0m                                Traceback (most recent call last)",
            "\u001b[0;32m<ipython-input-12-d55c39dba39a>\u001b[0m in \u001b[0;36m<cell line: 0>\u001b[0;34m()\u001b[0m\n\u001b[0;32m----> 1\u001b[0;31m \u001b[0mnum1\u001b[0m \u001b[0;34m=\u001b[0m \u001b[0mint\u001b[0m\u001b[0;34m(\u001b[0m\u001b[0minput\u001b[0m\u001b[0;34m(\u001b[0m\u001b[0;34m\"Enter first number: \"\u001b[0m\u001b[0;34m)\u001b[0m\u001b[0;34m)\u001b[0m\u001b[0;34m\u001b[0m\u001b[0;34m\u001b[0m\u001b[0m\n\u001b[0m\u001b[1;32m      2\u001b[0m \u001b[0mnum2\u001b[0m \u001b[0;34m=\u001b[0m \u001b[0mint\u001b[0m\u001b[0;34m(\u001b[0m\u001b[0minput\u001b[0m\u001b[0;34m(\u001b[0m\u001b[0;34m\"Enter second number: \"\u001b[0m\u001b[0;34m)\u001b[0m\u001b[0;34m)\u001b[0m\u001b[0;34m\u001b[0m\u001b[0;34m\u001b[0m\u001b[0m\n\u001b[1;32m      3\u001b[0m \u001b[0;34m\u001b[0m\u001b[0m\n\u001b[1;32m      4\u001b[0m \u001b[0mprint\u001b[0m\u001b[0;34m(\u001b[0m\u001b[0;34m\"Addition:\"\u001b[0m\u001b[0;34m,\u001b[0m \u001b[0mnum1\u001b[0m \u001b[0;34m+\u001b[0m \u001b[0mnum2\u001b[0m\u001b[0;34m)\u001b[0m\u001b[0;34m\u001b[0m\u001b[0;34m\u001b[0m\u001b[0m\n\u001b[1;32m      5\u001b[0m \u001b[0mprint\u001b[0m\u001b[0;34m(\u001b[0m\u001b[0;34m\"Subtraction:\"\u001b[0m\u001b[0;34m,\u001b[0m \u001b[0mnum1\u001b[0m \u001b[0;34m-\u001b[0m \u001b[0mnum2\u001b[0m\u001b[0;34m)\u001b[0m\u001b[0;34m\u001b[0m\u001b[0;34m\u001b[0m\u001b[0m\n",
            "\u001b[0;31mValueError\u001b[0m: invalid literal for int() with base 10: '1+2'"
          ]
        }
      ]
    },
    {
      "cell_type": "markdown",
      "source": [
        "### Q8. Write a program to demonstrate the use of logical operators."
      ],
      "metadata": {
        "id": "Prk-os9mWfUC"
      }
    },
    {
      "cell_type": "code",
      "source": [
        "x = True\n",
        "y = False\n",
        "\n",
        "print(\"x and y:\", x and y)\n",
        "print(\"x or y:\", x or y)\n",
        "print(\"not x:\", not x)"
      ],
      "metadata": {
        "id": "UCx7hALQWfNE"
      },
      "execution_count": null,
      "outputs": []
    },
    {
      "cell_type": "markdown",
      "source": [
        "### Q9. Write a Python program to convert user input from string to integer, float, and boolean types."
      ],
      "metadata": {
        "id": "GGuN4craWfFg"
      }
    },
    {
      "cell_type": "code",
      "source": [
        "user_input = input(\"Enter a number: \")\n",
        "\n",
        "int_val = int(user_input)\n",
        "float_val = float(user_input)\n",
        "bool_val = bool(int_val)\n",
        "\n",
        "print(\"Integer:\", int_val)\n",
        "print(\"Float:\", float_val)\n",
        "print(\"Boolean:\", bool_val)"
      ],
      "metadata": {
        "id": "WwoquqWHWe-J"
      },
      "execution_count": null,
      "outputs": []
    },
    {
      "cell_type": "markdown",
      "source": [
        "### Q10. Write code to demonstrate type casting with list elements."
      ],
      "metadata": {
        "id": "lAUX6LiRWedZ"
      }
    },
    {
      "cell_type": "code",
      "source": [
        "str_list = [\"1\", \"2\", \"3\"]\n",
        "int_list = list(map(int, str_list))\n",
        "print(\"List of integers:\", int_list)"
      ],
      "metadata": {
        "id": "8o_I9ukWWeVZ",
        "colab": {
          "base_uri": "https://localhost:8080/"
        },
        "outputId": "5cef981e-0078-46fe-e42e-8bddbb35cc29"
      },
      "execution_count": 13,
      "outputs": [
        {
          "output_type": "stream",
          "name": "stdout",
          "text": [
            "List of integers: [1, 2, 3]\n"
          ]
        }
      ]
    },
    {
      "cell_type": "markdown",
      "source": [
        "### Q11. Write a program that checks if a number is positive, negative, or zero."
      ],
      "metadata": {
        "id": "mHUjo8bvWdKr"
      }
    },
    {
      "cell_type": "code",
      "source": [
        "num = float(input(\"Enter a number: \"))\n",
        "if num > 0:\n",
        "    print(\"Positive\")\n",
        "elif num < 0:\n",
        "    print(\"Negative\")\n",
        "else:\n",
        "    print(\"Zero\")"
      ],
      "metadata": {
        "id": "W3QoXH-IWdCE"
      },
      "execution_count": null,
      "outputs": []
    },
    {
      "cell_type": "markdown",
      "source": [
        "### Q12. Write a for loop to print numbers from 1 to 10."
      ],
      "metadata": {
        "id": "6QkTN1ciWc7o"
      }
    },
    {
      "cell_type": "code",
      "source": [
        "for i in range(1, 11):\n",
        "    print(i)"
      ],
      "metadata": {
        "id": "A618iSM6Wcxo"
      },
      "execution_count": null,
      "outputs": []
    },
    {
      "cell_type": "markdown",
      "source": [
        "### Q13. Write a Python program to find the sum of all even numbers between 1 and 50."
      ],
      "metadata": {
        "id": "-iBLWkM1WcqJ"
      }
    },
    {
      "cell_type": "code",
      "source": [
        "total = 0\n",
        "for i in range(1, 51):\n",
        "    if i % 2 == 0:\n",
        "        total += i\n",
        "print(\"Sum of even numbers from 1 to 50:\", total)"
      ],
      "metadata": {
        "id": "b8mAouvaWcTD"
      },
      "execution_count": null,
      "outputs": []
    },
    {
      "cell_type": "markdown",
      "source": [
        "### Q14. Write a program to reverse a string using a while loop."
      ],
      "metadata": {
        "id": "po0Q_k_IWcLA"
      }
    },
    {
      "cell_type": "code",
      "source": [
        "string = input(\"Enter a string: \")\n",
        "reversed_string = \"\"\n",
        "i = len(string) - 1\n",
        "\n",
        "while i >= 0:\n",
        "    reversed_string += string[i]\n",
        "    i -= 1\n",
        "\n",
        "print(\"Reversed string:\", reversed_string)"
      ],
      "metadata": {
        "id": "4ZyT_VJcWcA7"
      },
      "execution_count": null,
      "outputs": []
    },
    {
      "cell_type": "markdown",
      "source": [
        "### Q15. Write a Python program to calculate the factorial of a number provided by the user using a while loop."
      ],
      "metadata": {
        "id": "CtrXzBvaeNpJ"
      }
    },
    {
      "cell_type": "code",
      "source": [
        "# Get input from the user\n",
        "num = int(input(\"Enter a number to calculate its factorial: \"))\n",
        "\n",
        "# Initialize variables\n",
        "factorial = 1\n",
        "i = 1\n",
        "\n",
        "# Calculate factorial using a while loop\n",
        "while i <= num:\n",
        "    factorial *= i\n",
        "    i += 1\n",
        "\n",
        "print(f\"The factorial of {num} is: {factorial}\")"
      ],
      "metadata": {
        "id": "4VSIhsUiePKk"
      },
      "execution_count": null,
      "outputs": []
    }
  ]
}